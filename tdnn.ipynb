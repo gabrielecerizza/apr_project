{
 "cells": [
  {
   "cell_type": "code",
   "execution_count": 1,
   "metadata": {},
   "outputs": [],
   "source": [
    "import random\n",
    "import os\n",
    "import sys\n",
    "import pandas as pd\n",
    "import torch\n",
    "import torchaudio\n",
    "import torch.nn.functional as F\n",
    "import torchaudio.transforms as T\n",
    "import librosa\n",
    "import matplotlib.pyplot as plt\n",
    "from IPython.display import Audio, display\n",
    "import json\n",
    "import numpy as np\n",
    "import math\n",
    "import seaborn as sns\n",
    "sns.set_theme()\n",
    "sns.set_style(\"ticks\")\n",
    "sns.set_context(\"paper\")\n",
    "\n",
    "from typing import Optional\n",
    "\n",
    "from datetime import timedelta\n",
    "\n",
    "from src.utils import (\n",
    "    create_dataset, plot_spectrogram,\n",
    "    RandomClip, extract_logmel, pad_tensor, plot_waveform\n",
    ")\n",
    "from src.datasets import VoxCelebDataModule\n",
    "from src.models import SEBlock, SpeakerRecognitionModel, build_efficientnetv2\n",
    "from torch import nn\n",
    "from sklearn.decomposition import PCA\n",
    "\n",
    "from src.losses import SubCenterAAMSoftmaxLoss\n",
    "from sklearn.cluster import KMeans\n",
    "from sklearn.metrics import roc_curve, accuracy_score\n",
    "from sklearn.svm import SVC\n",
    "from sklearn.model_selection import train_test_split\n",
    "from sklearn.neural_network import MLPClassifier\n",
    "\n",
    "from src.utils import (\n",
    "    RandomBackgroundNoise, RandomClip, RandomSpeedChange,\n",
    "    create_features_from_row, kmeans_plot\n",
    ")\n",
    "from tqdm.auto import tqdm\n",
    "from pedalboard import Pedalboard, Reverb, Chorus"
   ]
  },
  {
   "cell_type": "code",
   "execution_count": null,
   "metadata": {},
   "outputs": [],
   "source": [
    "SAMPLE_WAV_SPEECH_PATH = \"E:\\Datasets\\VoxCeleb1\\\\vox1_dev\\id10015\\\\7rzuEmfRFEA\\\\00001.wav\"\n",
    "waveform, sample_rate = torchaudio.load(SAMPLE_WAV_SPEECH_PATH)"
   ]
  },
  {
   "cell_type": "code",
   "execution_count": null,
   "metadata": {},
   "outputs": [],
   "source": [
    "melspec = extract_logmel(waveform, n_mels=80)"
   ]
  },
  {
   "cell_type": "code",
   "execution_count": null,
   "metadata": {},
   "outputs": [],
   "source": [
    "mfcc_t = torchaudio.transforms.MFCC(\n",
    "    sample_rate=16000,\n",
    "    n_mfcc=40\n",
    ")"
   ]
  },
  {
   "cell_type": "code",
   "execution_count": null,
   "metadata": {},
   "outputs": [],
   "source": [
    "mfcc = mfcc_t(waveform)"
   ]
  },
  {
   "cell_type": "code",
   "execution_count": null,
   "metadata": {},
   "outputs": [],
   "source": [
    "plot_spectrogram(mfcc[0])"
   ]
  },
  {
   "cell_type": "code",
   "execution_count": null,
   "metadata": {},
   "outputs": [],
   "source": [
    "spr = torchaudio.transforms.Spectrogram()\n",
    "sprr = spr(waveform)"
   ]
  },
  {
   "cell_type": "code",
   "execution_count": null,
   "metadata": {},
   "outputs": [],
   "source": [
    "sprr2 = librosa.feature.melspectrogram(\n",
    "    y=waveform.numpy()[0],\n",
    "    sr=16000,\n",
    "    power=1\n",
    ")"
   ]
  },
  {
   "cell_type": "code",
   "execution_count": null,
   "metadata": {},
   "outputs": [],
   "source": [
    "plot_spectrogram(np.log(sprr2))"
   ]
  },
  {
   "cell_type": "code",
   "execution_count": null,
   "metadata": {},
   "outputs": [],
   "source": [
    "SAMPLE_WAV_SPEECH_PATH = \"/media/gabriele/Seagate Expansion Drive/Datasets/VoxCeleb1/vox1_dev/id10001/1zcIwhmdeo4/00001.wav\"\n",
    "waveform, sample_rate = torchaudio.load(SAMPLE_WAV_SPEECH_PATH)"
   ]
  },
  {
   "cell_type": "code",
   "execution_count": null,
   "metadata": {},
   "outputs": [],
   "source": [
    "waveform, sample_rate"
   ]
  },
  {
   "cell_type": "code",
   "execution_count": null,
   "metadata": {},
   "outputs": [],
   "source": [
    "waveform.shape"
   ]
  },
  {
   "cell_type": "code",
   "execution_count": null,
   "metadata": {},
   "outputs": [],
   "source": [
    "reverb = Pedalboard(\n",
    "    [Reverb(room_size=0.75)]\n",
    ")"
   ]
  },
  {
   "cell_type": "code",
   "execution_count": null,
   "metadata": {},
   "outputs": [],
   "source": [
    "board = Pedalboard([Chorus(), Reverb(room_size=0.25)])"
   ]
  },
  {
   "cell_type": "code",
   "execution_count": null,
   "metadata": {},
   "outputs": [],
   "source": [
    "board(waveform, sample_rate=16000)"
   ]
  },
  {
   "cell_type": "code",
   "execution_count": null,
   "metadata": {},
   "outputs": [],
   "source": [
    "reverb(waveform, sample_rate=16000)"
   ]
  },
  {
   "cell_type": "code",
   "execution_count": null,
   "metadata": {},
   "outputs": [],
   "source": [
    "rc = RandomClip()"
   ]
  },
  {
   "cell_type": "code",
   "execution_count": null,
   "metadata": {},
   "outputs": [],
   "source": []
  },
  {
   "cell_type": "code",
   "execution_count": null,
   "metadata": {},
   "outputs": [],
   "source": [
    "clipped = rc(waveform)\n",
    "clipped.shape"
   ]
  },
  {
   "cell_type": "code",
   "execution_count": null,
   "metadata": {},
   "outputs": [],
   "source": [
    "n_fft = 512\n",
    "mel_spectrogram = T.MelSpectrogram(\n",
    "        sample_rate=sample_rate,\n",
    "        n_fft=n_fft,\n",
    "        win_length=400,\n",
    "        hop_length=160,\n",
    "        center=True,\n",
    "        pad_mode=\"reflect\",\n",
    "        power=2.0, # energy instead of power\n",
    "        norm=\"slaney\",\n",
    "        onesided=True,\n",
    "        n_mels=80,\n",
    "        mel_scale=\"htk\",\n",
    "    )"
   ]
  },
  {
   "cell_type": "code",
   "execution_count": null,
   "metadata": {},
   "outputs": [],
   "source": [
    "cmn = T.SlidingWindowCmn(cmn_window=n_fft)\n",
    "to_db = T.AmplitudeToDB(stype=\"amplitude\")"
   ]
  },
  {
   "cell_type": "code",
   "execution_count": null,
   "metadata": {},
   "outputs": [],
   "source": [
    "logmel = mel_spectrogram(clipped)\n",
    "logmel.shape"
   ]
  },
  {
   "cell_type": "code",
   "execution_count": null,
   "metadata": {},
   "outputs": [],
   "source": [
    "logmel"
   ]
  },
  {
   "cell_type": "code",
   "execution_count": null,
   "metadata": {},
   "outputs": [],
   "source": [
    "logmel = extract_logmel(clipped, sample_rate=16000, n_mels=80)\n",
    "logmel.shape"
   ]
  },
  {
   "cell_type": "code",
   "execution_count": null,
   "metadata": {},
   "outputs": [],
   "source": [
    "logmel = torch.load(\"E:\\Datasets\\VoxCeleb1\\subset\\\\features_3\\\\train\\id10075\\\\08H4--mL1LQ\\\\00001_.pt\")"
   ]
  },
  {
   "cell_type": "code",
   "execution_count": null,
   "metadata": {},
   "outputs": [],
   "source": [
    "logeml = logmel + 1e-6\n",
    "logeml = torch.log(logeml)\n",
    "logmel = F.instance_norm(logmel)"
   ]
  },
  {
   "cell_type": "code",
   "execution_count": null,
   "metadata": {},
   "outputs": [],
   "source": [
    "plot_spectrogram(melspec[0])"
   ]
  },
  {
   "cell_type": "code",
   "execution_count": null,
   "metadata": {},
   "outputs": [],
   "source": [
    "freq_masking = T.FrequencyMasking(freq_mask_param=10)\n",
    "time_masking = T.TimeMasking(time_mask_param=5)"
   ]
  },
  {
   "cell_type": "code",
   "execution_count": null,
   "metadata": {},
   "outputs": [],
   "source": [
    "spec_logmel = time_masking(freq_masking(logmel))"
   ]
  },
  {
   "cell_type": "code",
   "execution_count": null,
   "metadata": {},
   "outputs": [],
   "source": [
    "plot_spectrogram(time_masking(freq_masking(logmel))[0])"
   ]
  },
  {
   "cell_type": "code",
   "execution_count": null,
   "metadata": {},
   "outputs": [],
   "source": [
    "num_secs = 3\n",
    "csv_base_path: str = \"E:/Datasets/VoxCeleb1/subset/\"\n",
    "label_dict = pd.read_csv(\n",
    "    csv_base_path + f\"subset_labels_{num_secs}.csv\"\n",
    ").to_dict()[\"label\"]"
   ]
  },
  {
   "cell_type": "code",
   "execution_count": null,
   "metadata": {},
   "outputs": [],
   "source": [
    "speaker_ids = list(label_dict.keys())\n",
    "speaker_ids"
   ]
  },
  {
   "cell_type": "code",
   "execution_count": null,
   "metadata": {},
   "outputs": [],
   "source": [
    "create_dataset(\n",
    "    num_speakers=100, \n",
    "    to_db_flag=True,\n",
    "    cmn_flag=True,\n",
    "    clip_secs=6,\n",
    "    n_fft=400,\n",
    "    win_length=400,\n",
    "    hop_length=160,\n",
    "    n_mels=80,\n",
    "    power=1.0,\n",
    "    data_aug=True,\n",
    "    speaker_ids=speaker_ids\n",
    "    # base_path=\"/media/gabriele/Seagate Expansion Drive/Datasets/VoxCeleb1/\",\n",
    "    # noise_dir=\"/media/gabriele/Seagate Expansion Drive/Datasets/Musan/noise\",\n",
    "    # babble_dir=\"/media/gabriele/Seagate Expansion Drive/Datasets/Musan/speech\"\n",
    ")"
   ]
  },
  {
   "cell_type": "code",
   "execution_count": null,
   "metadata": {},
   "outputs": [],
   "source": [
    "df = pd.read_csv(\"E:\\Datasets\\VoxCeleb1\\subset\\subset_labels_3.csv\")\n",
    "speaker_ids = df.index.tolist()"
   ]
  },
  {
   "cell_type": "code",
   "execution_count": null,
   "metadata": {},
   "outputs": [],
   "source": [
    "create_dataset(\n",
    "    num_speakers=5,\n",
    "    clip_secs=6, \n",
    "    to_db_flag=True, \n",
    "    cmn_flag=True,\n",
    "    speaker_ids=speaker_ids\n",
    "    # base_path=\"/media/gabriele/Seagate Expansion Drive/Datasets/VoxCeleb1/\",\n",
    "    # noise_dir=\"/media/gabriele/Seagate Expansion Drive/Datasets/Musan/noise\",\n",
    "    # babble_dir=\"/media/gabriele/Seagate Expansion Drive/Datasets/Musan/speech\"\n",
    ")"
   ]
  },
  {
   "cell_type": "code",
   "execution_count": null,
   "metadata": {},
   "outputs": [],
   "source": [
    "num_secs = 3\n",
    "csv_base_path: str = \"E:/Datasets/VoxCeleb1/subset/\"\n",
    "set_name: str = \"train\"\n",
    "df = pd.read_csv(\n",
    "            csv_base_path + f\"subset_features_{num_secs}.csv\"\n",
    "        )"
   ]
  },
  {
   "cell_type": "code",
   "execution_count": null,
   "metadata": {},
   "outputs": [],
   "source": [
    "df"
   ]
  },
  {
   "cell_type": "code",
   "execution_count": null,
   "metadata": {},
   "outputs": [],
   "source": [
    "df_train = df[df[\"Set\"] == \"train\"]\n",
    "df_train"
   ]
  },
  {
   "cell_type": "code",
   "execution_count": null,
   "metadata": {},
   "outputs": [],
   "source": [
    "label_dict = pd.read_csv(\n",
    "            csv_base_path + f\"subset_labels_{num_secs}.csv\"\n",
    "        ).to_dict()[\"label\"]"
   ]
  },
  {
   "cell_type": "code",
   "execution_count": null,
   "metadata": {},
   "outputs": [],
   "source": [
    "label_dict"
   ]
  },
  {
   "cell_type": "code",
   "execution_count": null,
   "metadata": {},
   "outputs": [],
   "source": [
    "melspecs = []\n",
    "y = []\n",
    "for idx, row in df.iterrows():\n",
    "    melspec = torch.load(row[\"File\"]).numpy()\n",
    "    melspecs.append(\n",
    "        melspec\n",
    "    )\n",
    "    y.append(\n",
    "        label_dict[row[\"Speaker\"]]\n",
    "    )"
   ]
  },
  {
   "cell_type": "code",
   "execution_count": null,
   "metadata": {},
   "outputs": [],
   "source": [
    "X = np.vstack(melspecs)\n",
    "X.shape"
   ]
  },
  {
   "cell_type": "code",
   "execution_count": null,
   "metadata": {},
   "outputs": [],
   "source": [
    "X = X.reshape(X.shape[0], 80*301)\n",
    "X.shape"
   ]
  },
  {
   "cell_type": "code",
   "execution_count": null,
   "metadata": {},
   "outputs": [],
   "source": [
    "y = np.vstack(y).squeeze(-1)\n",
    "y.shape"
   ]
  },
  {
   "cell_type": "code",
   "execution_count": null,
   "metadata": {},
   "outputs": [],
   "source": [
    "kmeans = KMeans(n_clusters=8)"
   ]
  },
  {
   "cell_type": "code",
   "execution_count": null,
   "metadata": {},
   "outputs": [],
   "source": [
    "kmeans.fit(X)"
   ]
  },
  {
   "cell_type": "code",
   "execution_count": null,
   "metadata": {},
   "outputs": [],
   "source": [
    "pca = PCA(2)"
   ]
  },
  {
   "cell_type": "code",
   "execution_count": null,
   "metadata": {},
   "outputs": [],
   "source": [
    "Xpca = pca.fit_transform(X)"
   ]
  },
  {
   "cell_type": "code",
   "execution_count": null,
   "metadata": {},
   "outputs": [],
   "source": [
    "u_y = np.unique(y)"
   ]
  },
  {
   "cell_type": "code",
   "execution_count": null,
   "metadata": {},
   "outputs": [],
   "source": [
    "y"
   ]
  },
  {
   "cell_type": "code",
   "execution_count": null,
   "metadata": {},
   "outputs": [],
   "source": [
    "Xpca[y == 0]"
   ]
  },
  {
   "cell_type": "code",
   "execution_count": null,
   "metadata": {},
   "outputs": [],
   "source": [
    "for label in u_y:\n",
    "    plt.scatter(\n",
    "        Xpca[y == label, 0], \n",
    "        Xpca[y == label, 1], \n",
    "        label=label,\n",
    "        alpha=0.7\n",
    "    )\n",
    "plt.legend()\n",
    "plt.show()"
   ]
  },
  {
   "cell_type": "code",
   "execution_count": null,
   "metadata": {},
   "outputs": [],
   "source": [
    "svc = SVC()"
   ]
  },
  {
   "cell_type": "code",
   "execution_count": null,
   "metadata": {},
   "outputs": [],
   "source": [
    "X_train, X_test, y_train, y_test = train_test_split(X, y, test_size=0.3)"
   ]
  },
  {
   "cell_type": "code",
   "execution_count": null,
   "metadata": {},
   "outputs": [],
   "source": [
    "svc.fit(X_train,y_train)"
   ]
  },
  {
   "cell_type": "code",
   "execution_count": null,
   "metadata": {},
   "outputs": [],
   "source": [
    "pred = svc.predict(X_test)"
   ]
  },
  {
   "cell_type": "code",
   "execution_count": null,
   "metadata": {},
   "outputs": [],
   "source": [
    "accuracy_score(y_test, pred)"
   ]
  },
  {
   "cell_type": "code",
   "execution_count": null,
   "metadata": {},
   "outputs": [],
   "source": [
    "mlp = MLPClassifier()"
   ]
  },
  {
   "cell_type": "code",
   "execution_count": null,
   "metadata": {},
   "outputs": [],
   "source": [
    "mlp.fit(X_train, y_train)"
   ]
  },
  {
   "cell_type": "code",
   "execution_count": null,
   "metadata": {},
   "outputs": [],
   "source": [
    "pred = mlp.predict(X_test)"
   ]
  },
  {
   "cell_type": "code",
   "execution_count": null,
   "metadata": {},
   "outputs": [],
   "source": [
    "accuracy_score(y_test, pred)"
   ]
  },
  {
   "cell_type": "code",
   "execution_count": null,
   "metadata": {},
   "outputs": [],
   "source": [
    "optimizer = torch.optim.AdamW(\n",
    "    [torch.randn((4,5))], \n",
    "    lr=1e-3, \n",
    "    eps=1e-8\n",
    ")"
   ]
  },
  {
   "cell_type": "code",
   "execution_count": null,
   "metadata": {},
   "outputs": [],
   "source": [
    "optimizer.state_dict()"
   ]
  },
  {
   "cell_type": "code",
   "execution_count": null,
   "metadata": {},
   "outputs": [],
   "source": [
    "optimizer.state_dict()[\"param_groups\"][0]"
   ]
  },
  {
   "cell_type": "code",
   "execution_count": null,
   "metadata": {},
   "outputs": [],
   "source": [
    "import random\n",
    "random.randint(0,4)"
   ]
  },
  {
   "cell_type": "code",
   "execution_count": null,
   "metadata": {},
   "outputs": [],
   "source": [
    "waveform = torch.load(\n",
    "    \"E:\\Datasets\\VoxCeleb1\\subset\\\\features_4\\\\train\\id10206\\\\0dATli9-ofc\\\\00001_.pt\"\n",
    ")"
   ]
  },
  {
   "cell_type": "code",
   "execution_count": null,
   "metadata": {},
   "outputs": [],
   "source": [
    "waveform.shape"
   ]
  },
  {
   "cell_type": "code",
   "execution_count": null,
   "metadata": {},
   "outputs": [],
   "source": [
    "logmel = extract_logmel(waveform)"
   ]
  },
  {
   "cell_type": "code",
   "execution_count": null,
   "metadata": {},
   "outputs": [],
   "source": [
    "logmel.shape"
   ]
  },
  {
   "cell_type": "code",
   "execution_count": null,
   "metadata": {},
   "outputs": [],
   "source": [
    "res = pad_tensor(\n",
    "    logmel, 401, 450\n",
    ")"
   ]
  },
  {
   "cell_type": "code",
   "execution_count": null,
   "metadata": {},
   "outputs": [],
   "source": [
    "res[0][1]"
   ]
  },
  {
   "cell_type": "code",
   "execution_count": 2,
   "metadata": {},
   "outputs": [
    {
     "data": {
      "image/png": "[encoded data removed]",
      "text/plain": [
       "<Figure size 720x288 with 2 Axes>"
      ]
     },
     "metadata": {},
     "output_type": "display_data"
    },
    {
     "data": {
      "text/plain": [
       "(array([[ -0.9530716 , -15.804745  , -15.432732  , ...,   8.744637  ,\n",
       "           8.055164  ,   2.8258514 ],\n",
       "        [  8.504242  ,  -3.4381752 ,  -3.911068  , ..., -26.499004  ,\n",
       "         -34.671307  , -44.17028   ],\n",
       "        [  2.2759209 ,  -1.3542252 ,  -4.5997314 , ..., -20.717422  ,\n",
       "          -8.692635  ,  -8.274849  ],\n",
       "        ...,\n",
       "        [ -3.0026932 ,   1.024044  ,  -3.8014946 , ..., -27.546867  ,\n",
       "         -28.556137  , -28.055107  ],\n",
       "        [-25.266838  ,   0.5674057 , -10.369064  , ..., -15.710182  ,\n",
       "         -15.493347  , -13.219742  ],\n",
       "        [  0.89279175,  -7.4984207 ,  -4.1632156 , ..., -16.910526  ,\n",
       "         -18.18077   , -16.921608  ]], dtype=float32),\n",
       " array([[ 270.05576 , -628.2515  ],\n",
       "        [ 193.26863 , -553.4574  ],\n",
       "        [ 114.46945 , -596.42084 ],\n",
       "        [ -80.94694 , -600.3852  ],\n",
       "        [ 107.57201 , -621.725   ],\n",
       "        [  17.573442, -566.8375  ],\n",
       "        [-140.21382 , -523.66833 ],\n",
       "        [ 134.19495 , -459.51334 ],\n",
       "        [ 125.94101 , -587.6766  ],\n",
       "        [ -88.27041 ,  340.57346 ],\n",
       "        [ 209.15154 ,  124.372955],\n",
       "        [ 202.86476 ,   45.459328],\n",
       "        [-186.03398 ,  -20.3059  ],\n",
       "        [-110.112625,  159.37527 ],\n",
       "        [ 180.68549 ,  -39.396076],\n",
       "        [  32.889423,   43.42957 ],\n",
       "        [-157.62946 ,  428.94034 ],\n",
       "        [ 225.04242 ,  322.96448 ],\n",
       "        [ 196.75053 ,  434.44238 ],\n",
       "        [  73.97849 ,  370.05734 ],\n",
       "        [ 371.03085 ,  484.98898 ],\n",
       "        [  36.325153,  199.86015 ],\n",
       "        [ 614.8264  , -171.70892 ],\n",
       "        [ 943.7269  , -201.17455 ],\n",
       "        [1059.4053  ,  -41.75406 ],\n",
       "        [1021.54474 ,  -78.4637  ],\n",
       "        [1071.6484  , -313.52673 ],\n",
       "        [1044.5178  , -233.57646 ],\n",
       "        [1176.8463  , -372.98828 ],\n",
       "        [ 409.5124  ,  314.78204 ],\n",
       "        [ 533.666   ,  348.80664 ],\n",
       "        [ 465.71436 ,  514.6937  ],\n",
       "        [ 484.67593 ,  262.59805 ],\n",
       "        [ 461.5552  ,  534.26056 ],\n",
       "        [ 356.12836 ,  300.2141  ],\n",
       "        [ 950.9355  , -242.40608 ],\n",
       "        [ 530.84607 , -300.36255 ],\n",
       "        [ 639.14526 , -441.92264 ],\n",
       "        [ 528.45044 , -404.58917 ],\n",
       "        [ 856.8536  , -481.779   ],\n",
       "        [ 490.0328  , -486.30225 ],\n",
       "        [ 479.33765 ,  -62.38974 ],\n",
       "        [ -23.61626 , -293.92767 ],\n",
       "        [ 325.20895 ,  -27.343185],\n",
       "        [ 349.28888 , -211.38254 ],\n",
       "        [ 294.3889  ,  134.33734 ],\n",
       "        [  41.802567, -204.57779 ],\n",
       "        [  -2.207996, -214.5359  ],\n",
       "        [  40.95852 ,  -82.39436 ],\n",
       "        [ 115.213524, -102.18692 ],\n",
       "        [  89.31775 , -108.2733  ],\n",
       "        [-110.76916 , -235.20268 ],\n",
       "        [  68.136795,  -86.88976 ],\n",
       "        [ -30.008038,  -97.96242 ]], dtype=float32),\n",
       " array([0, 0, 0, 0, 0, 0, 0, 0, 0, 1, 1, 1, 1, 1, 1, 1, 2, 2, 2, 2, 2, 2,\n",
       "        3, 3, 3, 3, 3, 3, 3, 4, 4, 4, 4, 4, 4, 5, 5, 5, 5, 5, 6, 6, 6, 6,\n",
       "        6, 6, 7, 7, 7, 7, 7, 7, 7, 7]),\n",
       " array([0, 0, 0, 0, 0, 0, 0, 0, 0, 1, 5, 5, 6, 6, 5, 6, 1, 4, 4, 1, 4, 1,\n",
       "        3, 3, 3, 3, 3, 3, 3, 5, 4, 4, 5, 4, 5, 3, 3, 3, 3, 3, 3, 3, 6, 6,\n",
       "        6, 6, 6, 6, 6, 6, 6, 6, 6, 6]))"
      ]
     },
     "execution_count": 2,
     "metadata": {},
     "output_type": "execute_result"
    }
   ],
   "source": [
    "kmeans_plot()"
   ]
  }
 ],
 "metadata": {
  "interpreter": {
   "hash": "f3a0b09ceef9b827a17ce91fbca1b0359a993a122e166af5f0b6d31a5625f693"
  },
  "kernelspec": {
   "display_name": "Python 3.9.5 64-bit ('tf_p3.9': conda)",
   "language": "python",
   "name": "python3"
  },
  "language_info": {
   "codemirror_mode": {
    "name": "ipython",
    "version": 3
   },
   "file_extension": ".py",
   "mimetype": "text/x-python",
   "name": "python",
   "nbconvert_exporter": "python",
   "pygments_lexer": "ipython3",
   "version": "3.9.5"
  },
  "orig_nbformat": 4
 },
 "nbformat": 4,
 "nbformat_minor": 2
}
