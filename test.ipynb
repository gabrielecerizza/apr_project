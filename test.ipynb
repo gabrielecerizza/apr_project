{
 "cells": [
  {
   "cell_type": "code",
   "execution_count": 5,
   "metadata": {},
   "outputs": [],
   "source": [
    "import os\n",
    "import sys\n",
    "import pandas as pd\n",
    "import torch\n",
    "import torchaudio\n",
    "import torch.nn.functional as F\n",
    "import torchaudio.transforms as T\n",
    "import librosa\n",
    "import matplotlib.pyplot as plt\n",
    "from IPython.display import Audio, display\n",
    "import json\n",
    "import numpy as np\n",
    "import math\n",
    "import random\n",
    "import seaborn as sns\n",
    "sns.set_theme()\n",
    "\n",
    "from typing import Optional\n",
    "\n",
    "from datetime import timedelta\n",
    "\n",
    "from src.utils import (\n",
    "    create_dataset, plot_spectrogram,\n",
    "    RandomClip, extract_logmel\n",
    ")\n",
    "from src.datasets import VoxCelebDataModule\n",
    "from src.models import (\n",
    "    SEBlock, SpeakerRecognitionModel, ResNetBlock, build_efficientnetv2,\n",
    "    SEResNetBlock, conv1x1, conv3x3, ResNet34SE, ResNet20,\n",
    "    SelfAttentivePooling\n",
    ")\n",
    "from torch import nn\n",
    "from sklearn.decomposition import PCA\n",
    "\n",
    "from src.resnetse import ResNetSE, SEBasicBlock, ResNetSEV2\n",
    "\n",
    "from src.losses import SubCenterAAMSoftmaxLoss\n",
    "from sklearn.cluster import KMeans\n",
    "from sklearn.metrics import roc_curve, accuracy_score\n",
    "from sklearn.svm import SVC\n",
    "from sklearn.model_selection import train_test_split\n",
    "from sklearn.neural_network import MLPClassifier\n",
    "\n",
    "from ignite.metrics.confusion_matrix import ConfusionMatrix\n",
    "from sklearn.metrics import confusion_matrix"
   ]
  },
  {
   "cell_type": "code",
   "execution_count": 49,
   "metadata": {},
   "outputs": [
    {
     "data": {
      "text/html": [
       "<div>\n",
       "<style scoped>\n",
       "    .dataframe tbody tr th:only-of-type {\n",
       "        vertical-align: middle;\n",
       "    }\n",
       "\n",
       "    .dataframe tbody tr th {\n",
       "        vertical-align: top;\n",
       "    }\n",
       "\n",
       "    .dataframe thead th {\n",
       "        text-align: right;\n",
       "    }\n",
       "</style>\n",
       "<table border=\"1\" class=\"dataframe\">\n",
       "  <thead>\n",
       "    <tr style=\"text-align: right;\">\n",
       "      <th></th>\n",
       "      <th>Set</th>\n",
       "      <th>Speaker</th>\n",
       "      <th>Type</th>\n",
       "      <th>Augment</th>\n",
       "      <th>Seconds</th>\n",
       "      <th>Path</th>\n",
       "      <th>File</th>\n",
       "    </tr>\n",
       "  </thead>\n",
       "  <tbody>\n",
       "    <tr>\n",
       "      <th>0</th>\n",
       "      <td>train</td>\n",
       "      <td>id10112</td>\n",
       "      <td>logmel</td>\n",
       "      <td>none</td>\n",
       "      <td>4.800063</td>\n",
       "      <td>id10112/NzsjhG3xKCI</td>\n",
       "      <td>verification_None/train/id10112/NzsjhG3xKCI/00...</td>\n",
       "    </tr>\n",
       "    <tr>\n",
       "      <th>1</th>\n",
       "      <td>train</td>\n",
       "      <td>id10112</td>\n",
       "      <td>logmel</td>\n",
       "      <td>none</td>\n",
       "      <td>5.760063</td>\n",
       "      <td>id10112/FncF3-pt9uo</td>\n",
       "      <td>verification_None/train/id10112/FncF3-pt9uo/00...</td>\n",
       "    </tr>\n",
       "    <tr>\n",
       "      <th>2</th>\n",
       "      <td>train</td>\n",
       "      <td>id10112</td>\n",
       "      <td>logmel</td>\n",
       "      <td>none</td>\n",
       "      <td>4.280062</td>\n",
       "      <td>id10112/UaZDNThXxj0</td>\n",
       "      <td>verification_None/train/id10112/UaZDNThXxj0/00...</td>\n",
       "    </tr>\n",
       "    <tr>\n",
       "      <th>3</th>\n",
       "      <td>train</td>\n",
       "      <td>id10112</td>\n",
       "      <td>logmel</td>\n",
       "      <td>none</td>\n",
       "      <td>4.880063</td>\n",
       "      <td>id10112/NzsjhG3xKCI</td>\n",
       "      <td>verification_None/train/id10112/NzsjhG3xKCI/00...</td>\n",
       "    </tr>\n",
       "    <tr>\n",
       "      <th>4</th>\n",
       "      <td>train</td>\n",
       "      <td>id10112</td>\n",
       "      <td>logmel</td>\n",
       "      <td>none</td>\n",
       "      <td>4.760063</td>\n",
       "      <td>id10112/5JidksrmVGM</td>\n",
       "      <td>verification_None/train/id10112/5JidksrmVGM/00...</td>\n",
       "    </tr>\n",
       "    <tr>\n",
       "      <th>...</th>\n",
       "      <td>...</td>\n",
       "      <td>...</td>\n",
       "      <td>...</td>\n",
       "      <td>...</td>\n",
       "      <td>...</td>\n",
       "      <td>...</td>\n",
       "      <td>...</td>\n",
       "    </tr>\n",
       "    <tr>\n",
       "      <th>1280</th>\n",
       "      <td>train</td>\n",
       "      <td>id10981</td>\n",
       "      <td>logmel</td>\n",
       "      <td>none</td>\n",
       "      <td>5.080063</td>\n",
       "      <td>id10981/GMZXT7iLxNA</td>\n",
       "      <td>verification_None/train/id10981/GMZXT7iLxNA/00...</td>\n",
       "    </tr>\n",
       "    <tr>\n",
       "      <th>1281</th>\n",
       "      <td>train</td>\n",
       "      <td>id10981</td>\n",
       "      <td>logmel</td>\n",
       "      <td>none</td>\n",
       "      <td>5.400062</td>\n",
       "      <td>id10981/p6xwhCREA94</td>\n",
       "      <td>verification_None/train/id10981/p6xwhCREA94/00...</td>\n",
       "    </tr>\n",
       "    <tr>\n",
       "      <th>1282</th>\n",
       "      <td>train</td>\n",
       "      <td>id10981</td>\n",
       "      <td>logmel</td>\n",
       "      <td>none</td>\n",
       "      <td>4.000063</td>\n",
       "      <td>id10981/a-e1xc8lmcc</td>\n",
       "      <td>verification_None/train/id10981/a-e1xc8lmcc/00...</td>\n",
       "    </tr>\n",
       "    <tr>\n",
       "      <th>1283</th>\n",
       "      <td>train</td>\n",
       "      <td>id10981</td>\n",
       "      <td>logmel</td>\n",
       "      <td>none</td>\n",
       "      <td>17.120062</td>\n",
       "      <td>id10981/jCpG_wDhjcM</td>\n",
       "      <td>verification_None/train/id10981/jCpG_wDhjcM/00...</td>\n",
       "    </tr>\n",
       "    <tr>\n",
       "      <th>1284</th>\n",
       "      <td>train</td>\n",
       "      <td>id10981</td>\n",
       "      <td>logmel</td>\n",
       "      <td>none</td>\n",
       "      <td>5.440062</td>\n",
       "      <td>id10981/ob6p1Uej-a4</td>\n",
       "      <td>verification_None/train/id10981/ob6p1Uej-a4/00...</td>\n",
       "    </tr>\n",
       "  </tbody>\n",
       "</table>\n",
       "<p>1285 rows × 7 columns</p>\n",
       "</div>"
      ],
      "text/plain": [
       "        Set  ...                                               File\n",
       "0     train  ...  verification_None/train/id10112/NzsjhG3xKCI/00...\n",
       "1     train  ...  verification_None/train/id10112/FncF3-pt9uo/00...\n",
       "2     train  ...  verification_None/train/id10112/UaZDNThXxj0/00...\n",
       "3     train  ...  verification_None/train/id10112/NzsjhG3xKCI/00...\n",
       "4     train  ...  verification_None/train/id10112/5JidksrmVGM/00...\n",
       "...     ...  ...                                                ...\n",
       "1280  train  ...  verification_None/train/id10981/GMZXT7iLxNA/00...\n",
       "1281  train  ...  verification_None/train/id10981/p6xwhCREA94/00...\n",
       "1282  train  ...  verification_None/train/id10981/a-e1xc8lmcc/00...\n",
       "1283  train  ...  verification_None/train/id10981/jCpG_wDhjcM/00...\n",
       "1284  train  ...  verification_None/train/id10981/ob6p1Uej-a4/00...\n",
       "\n",
       "[1285 rows x 7 columns]"
      ]
     },
     "execution_count": 49,
     "metadata": {},
     "output_type": "execute_result"
    }
   ],
   "source": [
    "base_path: str = \"E:/Datasets/VoxCeleb1/\"\n",
    "df = pd.read_csv(\n",
    "    base_path + f\"subset/subset_verification.csv\"\n",
    ")\n",
    "df"
   ]
  },
  {
   "cell_type": "code",
   "execution_count": 52,
   "metadata": {},
   "outputs": [
    {
     "data": {
      "text/plain": [
       "Set                                                    train\n",
       "Speaker                                              id10981\n",
       "Type                                                  logmel\n",
       "Augment                                                 none\n",
       "Seconds                                            17.120062\n",
       "Path                                     id10981/jCpG_wDhjcM\n",
       "File       verification_None/train/id10981/jCpG_wDhjcM/00...\n",
       "Name: 1283, dtype: object"
      ]
     },
     "execution_count": 52,
     "metadata": {},
     "output_type": "execute_result"
    }
   ],
   "source": [
    "row = df.iloc[1283]\n",
    "row"
   ]
  },
  {
   "cell_type": "code",
   "execution_count": 54,
   "metadata": {},
   "outputs": [],
   "source": [
    "a = torch.load(base_path + f\"subset/{row['File']}\")"
   ]
  },
  {
   "cell_type": "code",
   "execution_count": 56,
   "metadata": {},
   "outputs": [
    {
     "data": {
      "text/plain": [
       "4.0"
      ]
     },
     "execution_count": 56,
     "metadata": {},
     "output_type": "execute_result"
    }
   ],
   "source": [
    "row[\"Seconds\"] // 4"
   ]
  },
  {
   "cell_type": "code",
   "execution_count": 69,
   "metadata": {},
   "outputs": [
    {
     "name": "stdout",
     "output_type": "stream",
     "text": [
      "0\n",
      "1\n",
      "2\n",
      "3\n"
     ]
    }
   ],
   "source": [
    "for idx in range(int(row[\"Seconds\"] // 4)):\n",
    "    print(idx)"
   ]
  },
  {
   "cell_type": "code",
   "execution_count": 59,
   "metadata": {},
   "outputs": [
    {
     "data": {
      "text/plain": [
       "64000"
      ]
     },
     "execution_count": 59,
     "metadata": {},
     "output_type": "execute_result"
    }
   ],
   "source": [
    "(16000 * 4)"
   ]
  },
  {
   "cell_type": "code",
   "execution_count": 55,
   "metadata": {},
   "outputs": [
    {
     "data": {
      "text/plain": [
       "torch.Size([1, 273921])"
      ]
     },
     "execution_count": 55,
     "metadata": {},
     "output_type": "execute_result"
    }
   ],
   "source": [
    "a.shape"
   ]
  },
  {
   "cell_type": "code",
   "execution_count": 66,
   "metadata": {},
   "outputs": [
    {
     "data": {
      "text/plain": [
       "[tensor([[ 0.1438,  0.1006,  0.0665,  ..., -0.0955, -0.0923, -0.0660]]),\n",
       " tensor([[-0.0902, -0.1399, -0.1721,  ..., -0.2943, -0.2445, -0.2397]]),\n",
       " tensor([[-0.2502, -0.1305,  0.0166,  ..., -0.0522, -0.0551, -0.0647]]),\n",
       " tensor([[-0.0715, -0.0818, -0.0884,  ...,  0.1008,  0.1071,  0.1155]]),\n",
       " tensor([[ 0.1142,  0.1086,  0.0987,  ..., -0.0356, -0.0293, -0.0196]])]"
      ]
     },
     "execution_count": 66,
     "metadata": {},
     "output_type": "execute_result"
    }
   ],
   "source": [
    "ls = list(torch.split(a, 64000, dim=-1))\n",
    "ls"
   ]
  },
  {
   "cell_type": "code",
   "execution_count": 67,
   "metadata": {},
   "outputs": [
    {
     "data": {
      "text/plain": [
       "torch.Size([1, 64000])"
      ]
     },
     "execution_count": 67,
     "metadata": {},
     "output_type": "execute_result"
    }
   ],
   "source": [
    "ls[0].shape"
   ]
  },
  {
   "cell_type": "code",
   "execution_count": 61,
   "metadata": {},
   "outputs": [
    {
     "data": {
      "text/plain": [
       "torch.Size([64000])"
      ]
     },
     "execution_count": 61,
     "metadata": {},
     "output_type": "execute_result"
    }
   ],
   "source": [
    "a[0][0:64000].shape"
   ]
  },
  {
   "cell_type": "code",
   "execution_count": 70,
   "metadata": {},
   "outputs": [],
   "source": [
    "num_secs = 4\n",
    "features_ls = list(\n",
    "    torch.split(a, 16000 * num_secs, dim=-1)\n",
    ")\n",
    "embeddings_ls = []\n",
    "for idx in range(int(row[\"Seconds\"] // num_secs)):\n",
    "    embedding = features_ls[idx][0]\n",
    "    embeddings_ls.append(embedding)"
   ]
  },
  {
   "cell_type": "code",
   "execution_count": 77,
   "metadata": {},
   "outputs": [
    {
     "data": {
      "text/plain": [
       "torch.Size([64000])"
      ]
     },
     "execution_count": 77,
     "metadata": {},
     "output_type": "execute_result"
    }
   ],
   "source": [
    "torch.vstack(embeddings_ls).mean(dim=0).shape"
   ]
  },
  {
   "cell_type": "code",
   "execution_count": 78,
   "metadata": {},
   "outputs": [
    {
     "data": {
      "text/plain": [
       "[0]"
      ]
     },
     "execution_count": 78,
     "metadata": {},
     "output_type": "execute_result"
    }
   ],
   "source": [
    "list(range(1))"
   ]
  }
 ],
 "metadata": {
  "interpreter": {
   "hash": "f3a0b09ceef9b827a17ce91fbca1b0359a993a122e166af5f0b6d31a5625f693"
  },
  "kernelspec": {
   "display_name": "Python 3.9.5 ('tf_p3.9')",
   "language": "python",
   "name": "python3"
  },
  "language_info": {
   "codemirror_mode": {
    "name": "ipython",
    "version": 3
   },
   "file_extension": ".py",
   "mimetype": "text/x-python",
   "name": "python",
   "nbconvert_exporter": "python",
   "pygments_lexer": "ipython3",
   "version": "3.9.5"
  },
  "orig_nbformat": 4
 },
 "nbformat": 4,
 "nbformat_minor": 2
}
