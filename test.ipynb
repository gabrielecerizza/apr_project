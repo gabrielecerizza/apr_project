{
 "cells": [
  {
   "cell_type": "code",
   "execution_count": 1,
   "metadata": {},
   "outputs": [],
   "source": [
    "import os\n",
    "import sys\n",
    "import pandas as pd\n",
    "import torch\n",
    "import torchaudio\n",
    "import torch.nn.functional as F\n",
    "import torchaudio.transforms as T\n",
    "import librosa\n",
    "import matplotlib.pyplot as plt\n",
    "from IPython.display import Audio, display\n",
    "import json\n",
    "import numpy as np\n",
    "import math\n",
    "import random\n",
    "import seaborn as sns\n",
    "sns.set_theme()\n",
    "\n",
    "from typing import Optional\n",
    "\n",
    "from datetime import timedelta\n",
    "\n",
    "from src.utils import (\n",
    "    create_dataset, plot_spectrogram,\n",
    "    RandomClip, extract_logmel\n",
    ")\n",
    "from src.datasets import VoxCelebDataModule\n",
    "from src.models import (\n",
    "    SEBlock, SpeakerRecognitionModel, ResNetBlock, build_efficientnetv2,\n",
    "    SEResNetBlock, conv1x1, conv3x3, ResNet34SE, ResNet20\n",
    ")\n",
    "from torch import nn\n",
    "from sklearn.decomposition import PCA\n",
    "\n",
    "from src.resnetse import ResNetSE, SEBasicBlock, ResNetSEV2\n",
    "\n",
    "from src.losses import SubCenterAAMSoftmaxLoss\n",
    "from sklearn.cluster import KMeans\n",
    "from sklearn.metrics import roc_curve, accuracy_score\n",
    "from sklearn.svm import SVC\n",
    "from sklearn.model_selection import train_test_split\n",
    "from sklearn.neural_network import MLPClassifier"
   ]
  },
  {
   "cell_type": "code",
   "execution_count": null,
   "metadata": {},
   "outputs": [],
   "source": [
    "class ResNet20Seq(nn.Module):\n",
    "    def __init__(\n",
    "        self, \n",
    "        in_channels, \n",
    "        out_channels, \n",
    "        num_blocks\n",
    "    ) -> None:\n",
    "        super(ResNet20Seq, self).__init__()\n",
    "        self.seq1 = nn.Sequential(\n",
    "            nn.Conv2d(\n",
    "                in_channels=in_channels,\n",
    "                out_channels=out_channels,\n",
    "                kernel_size=3,\n",
    "                stride=2,\n",
    "                padding=1\n",
    "            ),\n",
    "            nn.PReLU()\n",
    "        )\n",
    "        \n",
    "        layers = []\n",
    "\n",
    "        for _ in range(1, num_blocks):\n",
    "            layers.append(\n",
    "                nn.Conv2d(\n",
    "                    in_channels=out_channels,\n",
    "                    out_channels=out_channels,\n",
    "                    kernel_size=3,\n",
    "                    stride=1,\n",
    "                    padding=1\n",
    "                )\n",
    "            )\n",
    "            layers.append(\n",
    "                nn.PReLU()\n",
    "            )\n",
    "\n",
    "        self.seq2 = nn.Sequential(*layers)\n",
    "\n",
    "        for m in self.seq1.modules():\n",
    "            if isinstance(m, nn.Conv2d):\n",
    "                nn.init.xavier_normal_(\n",
    "                    m.weight\n",
    "                )\n",
    "                nn.init.constant_(\n",
    "                    m.bias,\n",
    "                    0\n",
    "                )\n",
    "\n",
    "        for m in self.seq2.modules():\n",
    "            if isinstance(m, nn.Conv2d):\n",
    "                nn.init.normal_(\n",
    "                    m.weight\n",
    "                )\n",
    "                nn.init.constant_(\n",
    "                    m.bias,\n",
    "                    0\n",
    "                )\n",
    "        \n",
    "    def forward(self, x: torch.Tensor) -> torch.Tensor:\n",
    "        out1 = self.seq1(x)\n",
    "        out2 = self.seq2(out1)\n",
    "        return out1 + out2"
   ]
  },
  {
   "cell_type": "code",
   "execution_count": null,
   "metadata": {},
   "outputs": [],
   "source": [
    "seq = ResNet20(num_classes=8)"
   ]
  },
  {
   "cell_type": "code",
   "execution_count": null,
   "metadata": {},
   "outputs": [],
   "source": [
    "a = torch.randn((4,1,80,301))"
   ]
  },
  {
   "cell_type": "code",
   "execution_count": null,
   "metadata": {},
   "outputs": [],
   "source": [
    "seq(a).shape"
   ]
  },
  {
   "cell_type": "code",
   "execution_count": null,
   "metadata": {},
   "outputs": [],
   "source": [
    "audiosize = 1500\n",
    "max_audio = 500\n",
    "\n",
    "np.array([np.int64(random.random()*(audiosize-max_audio))])"
   ]
  },
  {
   "cell_type": "code",
   "execution_count": 2,
   "metadata": {},
   "outputs": [],
   "source": [
    "resnet34 = ResNet34SE(n_mels=40, num_classes=5)"
   ]
  },
  {
   "cell_type": "code",
   "execution_count": 3,
   "metadata": {},
   "outputs": [],
   "source": [
    "a = torch.randn((4,1,40,301))"
   ]
  },
  {
   "cell_type": "code",
   "execution_count": 4,
   "metadata": {},
   "outputs": [
    {
     "data": {
      "text/plain": [
       "torch.Size([4, 512])"
      ]
     },
     "execution_count": 4,
     "metadata": {},
     "output_type": "execute_result"
    }
   ],
   "source": [
    "resnet34(a).shape"
   ]
  }
 ],
 "metadata": {
  "interpreter": {
   "hash": "f3a0b09ceef9b827a17ce91fbca1b0359a993a122e166af5f0b6d31a5625f693"
  },
  "kernelspec": {
   "display_name": "Python 3.9.5 ('tf_p3.9')",
   "language": "python",
   "name": "python3"
  },
  "language_info": {
   "codemirror_mode": {
    "name": "ipython",
    "version": 3
   },
   "file_extension": ".py",
   "mimetype": "text/x-python",
   "name": "python",
   "nbconvert_exporter": "python",
   "pygments_lexer": "ipython3",
   "version": "3.9.5"
  },
  "orig_nbformat": 4
 },
 "nbformat": 4,
 "nbformat_minor": 2
}
