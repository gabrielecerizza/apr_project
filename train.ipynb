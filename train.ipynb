{
 "cells": [
  {
   "cell_type": "code",
   "execution_count": 1,
   "metadata": {},
   "outputs": [
    {
     "name": "stderr",
     "output_type": "stream",
     "text": [
      "Global seed set to 42\n"
     ]
    },
    {
     "data": {
      "text/plain": [
       "42"
      ]
     },
     "execution_count": 1,
     "metadata": {},
     "output_type": "execute_result"
    }
   ],
   "source": [
    "import warnings\n",
    "warnings.filterwarnings(\n",
    "    \"ignore\", \".*Trying to infer the `batch_size`.*\"\n",
    ")\n",
    "warnings.filterwarnings(\n",
    "    \"ignore\", \".*The dataloader,.*\"\n",
    ")\n",
    "\n",
    "import torch\n",
    "from torch import nn\n",
    "from pytorch_lightning import Trainer, seed_everything\n",
    "from pytorch_lightning.callbacks.model_checkpoint import ModelCheckpoint\n",
    "from pytorch_lightning.loggers import TensorBoardLogger\n",
    "\n",
    "from src.datasets import VoxCelebDataModule\n",
    "from src.losses import (\n",
    "    AAMSoftmaxLoss, SubCenterAAMSoftmaxLoss, SoftmaxLoss\n",
    ")\n",
    "from src.models import (\n",
    "    ResNet34, EfficientNetV2, build_efficientnetv2,\n",
    "    Var_ECAPA, MHA_LAS\n",
    ")\n",
    "from src.coatnet import CoAtNet\n",
    "\n",
    "seed_everything(42, workers=True)"
   ]
  },
  {
   "cell_type": "code",
   "execution_count": 2,
   "metadata": {},
   "outputs": [],
   "source": [
    "num_classes = 5\n",
    "dm = VoxCelebDataModule(\n",
    "    batch_size=16,\n",
    "    from_memory=True,\n",
    "    spec_augment=True\n",
    "    # data_dir=\"D:\\Datasets\\subset\"\n",
    ")"
   ]
  },
  {
   "cell_type": "code",
   "execution_count": null,
   "metadata": {},
   "outputs": [],
   "source": [
    "checkpoint_callback = ModelCheckpoint(\n",
    "    dirpath=\"checkpoints/resnet34/\",\n",
    "    every_n_epochs=1,\n",
    "    save_top_k=2,\n",
    "    monitor=\"val_f1\",\n",
    "    mode=\"max\",\n",
    "    save_last=True\n",
    ")\n",
    "aams = AAMSoftmaxLoss(\n",
    "    num_classes=num_classes,\n",
    "    embeddings_dim=512,\n",
    "    scale=30,\n",
    "    margin=0.2\n",
    ")\n",
    "softmax = SoftmaxLoss(\n",
    "    num_classes=num_classes,\n",
    "    embeddings_dim=512\n",
    ")\n",
    "model = ResNet34(\n",
    "    num_classes=num_classes, \n",
    "    loss_func=softmax,\n",
    "    optimizer=\"AdamW\",\n",
    "    lr_scheduler=None\n",
    ")\n",
    "logger = TensorBoardLogger(\"tb_logs\", name=\"resnet34\")\n",
    "trainer = Trainer(\n",
    "    deterministic=True,\n",
    "    gpus=1,\n",
    "    logger=logger,\n",
    "    callbacks=[checkpoint_callback],\n",
    "    num_sanity_val_steps=0\n",
    "    # resume_from_checkpoint=\"checkpoints/historical_events/event/epoch=6-step=25654.ckpt\"\n",
    ")\n",
    "trainer.fit(model, dm)"
   ]
  },
  {
   "cell_type": "code",
   "execution_count": null,
   "metadata": {},
   "outputs": [],
   "source": [
    "checkpoint_callback = ModelCheckpoint(\n",
    "    dirpath=\"checkpoints/resnet34/\",\n",
    "    every_n_epochs=1,\n",
    "    save_top_k=2,\n",
    "    monitor=\"val_min_dcf\",\n",
    "    mode=\"min\",\n",
    "    save_last=True\n",
    ")\n",
    "checkpoint_path = \"checkpoints/resnet34/last.ckpt\"\n",
    "aams = AAMSoftmaxLoss(\n",
    "    num_classes=num_classes,\n",
    "    embeddings_dim=512,\n",
    "    scale=30,\n",
    "    margin=0.2\n",
    ")\n",
    "subaams = SubCenterAAMSoftmaxLoss(\n",
    "    num_classes=num_classes,\n",
    "    embeddings_dim=512\n",
    ")\n",
    "model = ResNet34(num_classes=num_classes, loss_func=aams) \\\n",
    "        .load_from_checkpoint(\n",
    "            checkpoint_path, \n",
    "            num_classes=num_classes, \n",
    "            loss_func=aams\n",
    "        )\n",
    "logger = TensorBoardLogger(\"tb_logs\", name=\"resnet34\")\n",
    "trainer = Trainer(\n",
    "    deterministic=True,\n",
    "    gpus=1,\n",
    "    gradient_clip_val=1,\n",
    "    logger=logger,\n",
    "    callbacks=[checkpoint_callback],\n",
    "    resume_from_checkpoint=checkpoint_path\n",
    ")\n",
    "trainer.test(\n",
    "    model, \n",
    "    dm,\n",
    "    ckpt_path=checkpoint_path\n",
    ")"
   ]
  },
  {
   "cell_type": "code",
   "execution_count": 3,
   "metadata": {},
   "outputs": [
    {
     "name": "stderr",
     "output_type": "stream",
     "text": [
      "GPU available: True, used: True\n",
      "TPU available: False, using: 0 TPU cores\n",
      "IPU available: False, using: 0 IPUs\n",
      "Loading data for train: 100%|██████████| 2060/2060 [00:00<00:00, 2717.70it/s]\n",
      "Loading data for val: 100%|██████████| 27/27 [00:00<00:00, 2454.51it/s]\n",
      "LOCAL_RANK: 0 - CUDA_VISIBLE_DEVICES: [0]\n",
      "\n",
      "  | Name       | Type        | Params\n",
      "-------------------------------------------\n",
      "0 | loss_func  | SoftmaxLoss | 2.6 K \n",
      "1 | acc        | Accuracy    | 0     \n",
      "2 | f1         | F1Score     | 0     \n",
      "3 | stem       | Sequential  | 264   \n",
      "4 | middle     | Sequential  | 42.3 M\n",
      "5 | head       | Sequential  | 657 K \n",
      "6 | embeddings | Linear      | 655 K \n",
      "7 | clf        | Linear      | 2.6 K \n",
      "-------------------------------------------\n",
      "43.6 M    Trainable params\n",
      "0         Non-trainable params\n",
      "43.6 M    Total params\n",
      "174.472   Total estimated model params size (MB)\n",
      "D:\\Users\\gabri\\anaconda3\\envs\\tf_p3.9\\lib\\site-packages\\pytorch_lightning\\callbacks\\model_checkpoint.py:631: UserWarning: Checkpoint directory F:\\Copia HD G\\Universita\\UNIMI\\Audio Pattern Recognition\\Project\\checkpoints\\efficientnetv2 exists and is not empty.\n",
      "  rank_zero_warn(f\"Checkpoint directory {dirpath} exists and is not empty.\")\n"
     ]
    },
    {
     "name": "stdout",
     "output_type": "stream",
     "text": [
      "                                                                      "
     ]
    },
    {
     "name": "stderr",
     "output_type": "stream",
     "text": [
      "Global seed set to 42\n"
     ]
    },
    {
     "name": "stdout",
     "output_type": "stream",
     "text": [
      "Epoch 4:   7%|▋         | 9/131 [00:01<00:21,  5.56it/s, loss=1.59, v_num=4, train_loss_step=1.610, train_acc_step=0.312, train_f1_step=0.243, val_loss_step=1.580, val_acc_step=0.455, val_f1_step=0.284, val_loss_epoch=1.710, val_acc_epoch=0.185, val_f1_epoch=0.116, train_loss_epoch=1.540, train_acc_epoch=0.271, train_f1_epoch=0.235]    "
     ]
    },
    {
     "name": "stderr",
     "output_type": "stream",
     "text": [
      "D:\\Users\\gabri\\anaconda3\\envs\\tf_p3.9\\lib\\site-packages\\pytorch_lightning\\trainer\\trainer.py:688: UserWarning: Detected KeyboardInterrupt, attempting graceful shutdown...\n",
      "  rank_zero_warn(\"Detected KeyboardInterrupt, attempting graceful shutdown...\")\n"
     ]
    }
   ],
   "source": [
    "checkpoint_callback = ModelCheckpoint(\n",
    "    dirpath=\"checkpoints/efficientnetv2/\",\n",
    "    every_n_epochs=1,\n",
    "    save_top_k=2,\n",
    "    monitor=\"val_f1\",\n",
    "    mode=\"max\",\n",
    "    save_last=True\n",
    ")\n",
    "softmax = SoftmaxLoss(\n",
    "    num_classes=num_classes,\n",
    "    embeddings_dim=512\n",
    ")\n",
    "subaams = SubCenterAAMSoftmaxLoss(\n",
    "    num_classes=num_classes,\n",
    "    embeddings_dim=512,\n",
    "    margin=0.2,\n",
    "    scale=30\n",
    ")\n",
    "model = build_efficientnetv2(\n",
    "    embeddings_dim=512,\n",
    "    num_classes=num_classes, \n",
    "    loss_func=softmax,\n",
    "    optimizer=\"NAdam\",\n",
    "    lr_scheduler=\"ReducePlateau\",\n",
    "    lr_scheduler_interval=\"epoch\"\n",
    ")\n",
    "\n",
    "logger = TensorBoardLogger(\"tb_logs\", name=\"efficientnetv2\")\n",
    "trainer = Trainer(\n",
    "    gpus=1,\n",
    "    logger=logger,\n",
    "    callbacks=[checkpoint_callback],\n",
    "    # resume_from_checkpoint=\"checkpoints/historical_events/event/epoch=6-step=25654.ckpt\"\n",
    ")\n",
    "trainer.fit(model, dm)"
   ]
  },
  {
   "cell_type": "code",
   "execution_count": null,
   "metadata": {},
   "outputs": [],
   "source": [
    "checkpoint_callback = ModelCheckpoint(\n",
    "    dirpath=\"checkpoints/MHA_LAS/\",\n",
    "    every_n_epochs=1,\n",
    "    save_top_k=2,\n",
    "    monitor=\"val_f1\",\n",
    "    mode=\"max\",\n",
    "    save_last=True\n",
    ")\n",
    "subaams = SubCenterAAMSoftmaxLoss(\n",
    "    num_classes=num_classes,\n",
    "    embeddings_dim=512,\n",
    "    margin=0.2,\n",
    "    scale=30\n",
    ")\n",
    "aams = AAMSoftmaxLoss(\n",
    "    num_classes=num_classes,\n",
    "    embeddings_dim=512,\n",
    "    scale=30,\n",
    "    margin=0.2\n",
    ")\n",
    "softmax = SoftmaxLoss(\n",
    "    num_classes=num_classes,\n",
    "    embeddings_dim=512\n",
    ")\n",
    "model = MHA_LAS(\n",
    "    num_classes=num_classes, \n",
    "    loss_func=softmax,\n",
    "    optimizer=\"AdamW\",\n",
    "    lr_scheduler=\"CyclicLR\"\n",
    ")\n",
    "logger = TensorBoardLogger(\"tb_logs\", name=\"mha_las\")\n",
    "trainer = Trainer(\n",
    "    gpus=1,\n",
    "    logger=logger,\n",
    "    callbacks=[checkpoint_callback],\n",
    "    # resume_from_checkpoint=\"checkpoints/historical_events/event/epoch=6-step=25654.ckpt\"\n",
    ")\n",
    "trainer.fit(model, dm)"
   ]
  },
  {
   "cell_type": "code",
   "execution_count": null,
   "metadata": {},
   "outputs": [],
   "source": [
    "checkpoint_callback = ModelCheckpoint(\n",
    "    dirpath=\"checkpoints/var_ecapa/\",\n",
    "    every_n_epochs=1,\n",
    "    save_top_k=2,\n",
    "    monitor=\"val_min_dcf\",\n",
    "    mode=\"min\",\n",
    "    save_last=True\n",
    ")\n",
    "\n",
    "num_classes = 5\n",
    "dm = VoxCelebDataModule(batch_size=4)\n",
    "aams = AAMSoftmaxLoss(\n",
    "    num_classes=num_classes,\n",
    "    embeddings_dim=512\n",
    ")\n",
    "model = Var_ECAPA(num_classes=5, loss_func=aams)\n",
    "logger = TensorBoardLogger(\"tb_logs\", name=\"var_ecapa\")\n",
    "trainer = Trainer(\n",
    "    gpus=1,\n",
    "    logger=logger,\n",
    "    gradient_clip_val=1,\n",
    "    callbacks=[checkpoint_callback]\n",
    "    # resume_from_checkpoint=\"checkpoints/historical_events/event/epoch=6-step=25654.ckpt\"\n",
    ")\n",
    "trainer.fit(model, dm)"
   ]
  },
  {
   "cell_type": "code",
   "execution_count": null,
   "metadata": {},
   "outputs": [],
   "source": [
    "from torch import nn\n",
    "\n",
    "checkpoint_callback = ModelCheckpoint(\n",
    "    dirpath=\"checkpoints/coatnet/\",\n",
    "    every_n_epochs=1,\n",
    "    save_top_k=2,\n",
    "    monitor=\"val_min_dcf\",\n",
    "    mode=\"min\",\n",
    "    save_last=True\n",
    ")\n",
    "\n",
    "num_classes = 5\n",
    "dm = VoxCelebDataModule(batch_size=4)\n",
    "aams = AAMSoftmaxLoss(\n",
    "    num_classes=num_classes,\n",
    "    embeddings_dim=512\n",
    ")\n",
    "model = CoAtNet(in_ch=1, embeddings_dim=5, image_size=224, num_classes=5, loss_func=ce_loss)\n",
    "logger = TensorBoardLogger(\"tb_logs\", name=\"coatnet\")\n",
    "trainer = Trainer(\n",
    "    gpus=1,\n",
    "    logger=logger,\n",
    "    callbacks=[checkpoint_callback]\n",
    "    # resume_from_checkpoint=\"checkpoints/historical_events/event/epoch=6-step=25654.ckpt\"\n",
    ")\n",
    "trainer.fit(model, dm)"
   ]
  }
 ],
 "metadata": {
  "interpreter": {
   "hash": "f3a0b09ceef9b827a17ce91fbca1b0359a993a122e166af5f0b6d31a5625f693"
  },
  "kernelspec": {
   "display_name": "Python 3.9.5 ('tf_p3.9')",
   "language": "python",
   "name": "python3"
  },
  "language_info": {
   "codemirror_mode": {
    "name": "ipython",
    "version": 3
   },
   "file_extension": ".py",
   "mimetype": "text/x-python",
   "name": "python",
   "nbconvert_exporter": "python",
   "pygments_lexer": "ipython3",
   "version": "3.9.5"
  },
  "orig_nbformat": 4
 },
 "nbformat": 4,
 "nbformat_minor": 2
}
